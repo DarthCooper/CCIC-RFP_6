{
 "cells": [
  {
   "cell_type": "code",
   "execution_count": null,
   "metadata": {},
   "outputs": [],
   "source": [
    "import gymnasium as gym\n",
    "import os\n",
    "import ale_py\n",
    "from ale_py import ALEInterface\n",
    "import cv2"
   ]
  },
  {
   "cell_type": "code",
   "execution_count": 1,
   "metadata": {},
   "outputs": [
    {
     "name": "stdout",
     "output_type": "stream",
     "text": [
      "^C\n",
      "Note: you may need to restart the kernel to use updated packages.\n"
     ]
    },
    {
     "name": "stdout",
     "output_type": "stream",
     "text": [
      "Collecting pygame\n",
      "  Downloading pygame-2.6.1-cp313-cp313-win_amd64.whl.metadata (13 kB)\n",
      "Downloading pygame-2.6.1-cp313-cp313-win_amd64.whl (10.6 MB)\n",
      "   ---------------------------------------- 0.0/10.6 MB ? eta -:--:--\n",
      "   - -------------------------------------- 0.5/10.6 MB 3.9 MB/s eta 0:00:03\n",
      "   ------ --------------------------------- 1.8/10.6 MB 4.3 MB/s eta 0:00:03\n",
      "   ---------- ----------------------------- 2.9/10.6 MB 4.6 MB/s eta 0:00:02\n",
      "   ------------ --------------------------- 3.4/10.6 MB 4.5 MB/s eta 0:00:02\n",
      "   -------------- ------------------------- 3.9/10.6 MB 4.1 MB/s eta 0:00:02\n",
      "   ----------------- ---------------------- 4.7/10.6 MB 3.8 MB/s eta 0:00:02\n",
      "   --------------------- ------------------ 5.8/10.6 MB 3.9 MB/s eta 0:00:02\n",
      "   ---------------------- ----------------- 6.0/10.6 MB 3.9 MB/s eta 0:00:02\n",
      "   ------------------------- -------------- 6.8/10.6 MB 3.6 MB/s eta 0:00:02\n",
      "   ---------------------------- ----------- 7.6/10.6 MB 3.7 MB/s eta 0:00:01\n",
      "   ------------------------------ --------- 8.1/10.6 MB 3.6 MB/s eta 0:00:01\n",
      "   ----------------------------------- ---- 9.4/10.6 MB 3.7 MB/s eta 0:00:01\n",
      "   ---------------------------------------  10.5/10.6 MB 3.7 MB/s eta 0:00:01\n",
      "   ---------------------------------------- 10.6/10.6 MB 3.7 MB/s eta 0:00:00\n",
      "Installing collected packages: pygame\n",
      "Successfully installed pygame-2.6.1\n"
     ]
    },
    {
     "name": "stderr",
     "output_type": "stream",
     "text": [
      "\n",
      "[notice] A new release of pip is available: 24.3.1 -> 25.0.1\n",
      "[notice] To update, run: python.exe -m pip install --upgrade pip\n"
     ]
    }
   ],
   "source": [
    "pip install pygame"
   ]
  },
  {
   "cell_type": "code",
   "execution_count": null,
   "metadata": {},
   "outputs": [],
   "source": [
    "env = gym.make(\"ALE/Frogger-v5\", render_mode=\"rgb_array\", full_action_space=True)\n",
    "obs, info = env.reset()"
   ]
  },
  {
   "cell_type": "code",
   "execution_count": 9,
   "metadata": {},
   "outputs": [],
   "source": [
    "for _ in range(1000):\n",
    "    action = env.action_space.sample()\n",
    "    observation, reward, terminated, truncated, info = env.step(action)\n",
    "    observation = cv2.cvtColor(observation, cv2.COLOR_BGR2RGB)\n",
    "    frameMap = observation\n",
    "\n",
    "    if terminated or truncated:\n",
    "        observation, info = env.reset()\n",
    "        frameMap = observation    \n",
    "\n",
    "env.close()"
   ]
  },
  {
   "cell_type": "code",
   "execution_count": 8,
   "metadata": {},
   "outputs": [
    {
     "data": {
      "text/plain": [
       "array([[[  0,   0,   0],\n",
       "        [  0,   0,   0],\n",
       "        [  0,   0,   0],\n",
       "        ...,\n",
       "        [  0,   0,   0],\n",
       "        [  0,   0,   0],\n",
       "        [  0,   0,   0]],\n",
       "\n",
       "       [[  0,   0,   0],\n",
       "        [  0,   0,   0],\n",
       "        [  0,   0,   0],\n",
       "        ...,\n",
       "        [  0,   0,   0],\n",
       "        [  0,   0,   0],\n",
       "        [  0,   0,   0]],\n",
       "\n",
       "       [[  0,   0,   0],\n",
       "        [  0,   0,   0],\n",
       "        [  0,   0,   0],\n",
       "        ...,\n",
       "        [  0,   0,   0],\n",
       "        [  0,   0,   0],\n",
       "        [  0,   0,   0]],\n",
       "\n",
       "       ...,\n",
       "\n",
       "       [[ 45, 126,  82],\n",
       "        [ 45, 126,  82],\n",
       "        [ 45, 126,  82],\n",
       "        ...,\n",
       "        [ 45, 126,  82],\n",
       "        [ 45, 126,  82],\n",
       "        [ 45, 126,  82]],\n",
       "\n",
       "       [[ 45, 126,  82],\n",
       "        [ 45, 126,  82],\n",
       "        [ 45, 126,  82],\n",
       "        ...,\n",
       "        [ 45, 126,  82],\n",
       "        [ 45, 126,  82],\n",
       "        [ 45, 126,  82]],\n",
       "\n",
       "       [[ 45, 126,  82],\n",
       "        [ 45, 126,  82],\n",
       "        [ 45, 126,  82],\n",
       "        ...,\n",
       "        [ 45, 126,  82],\n",
       "        [ 45, 126,  82],\n",
       "        [ 45, 126,  82]]], shape=(210, 160, 3), dtype=uint8)"
      ]
     },
     "execution_count": 8,
     "metadata": {},
     "output_type": "execute_result"
    }
   ],
   "source": [
    "frameMap #Returns the start due to the fact that env.reset() was called"
   ]
  },
  {
   "cell_type": "code",
   "execution_count": null,
   "metadata": {},
   "outputs": [
    {
     "data": {
      "text/plain": [
       "'\\n\\nfor _ in range(1000):\\n    action = policyAction(observation)\\n    observation, reward, terminated, truncated, info = env.step(action)\\n    observation = cv2.cvtColor(observation, cv2.COLOR_BGR2RGB)\\n    frameMap = observation\\n\\n    if terminated or truncated:\\n        observation, info = env.reset()\\n        frameMap = observation\\n'"
      ]
     },
     "execution_count": 6,
     "metadata": {},
     "output_type": "execute_result"
    }
   ],
   "source": [
    "'''         This is for any future 'tested' policy action, rather than random movements during play. Replace policyaction(observation) with our working method when it becomes avaialbe. This method simply gives us the vecorized frame after every movement.\n",
    "\n",
    "for _ in range(1000):\n",
    "    action = policyAction(observation)\n",
    "    observation, reward, terminated, truncated, info = env.step(action)\n",
    "    observation = cv2.cvtColor(observation, cv2.COLOR_BGR2RGB)\n",
    "    frameMap = observation\n",
    "\n",
    "    if terminated or truncated:\n",
    "        observation, info = env.reset()\n",
    "        frameMap = observation\n",
    "'''"
   ]
  }
 ],
 "metadata": {
  "kernelspec": {
   "display_name": "Python 3",
   "language": "python",
   "name": "python3"
  },
  "language_info": {
   "codemirror_mode": {
    "name": "ipython",
    "version": 3
   },
   "file_extension": ".py",
   "mimetype": "text/x-python",
   "name": "python",
   "nbconvert_exporter": "python",
   "pygments_lexer": "ipython3",
   "version": "3.13.2"
  }
 },
 "nbformat": 4,
 "nbformat_minor": 2
}
