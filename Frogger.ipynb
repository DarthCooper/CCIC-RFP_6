{
 "cells": [
  {
   "cell_type": "code",
   "execution_count": 1,
   "metadata": {},
   "outputs": [],
   "source": [
    "import multiprocessing\n",
    "multiprocessing.set_start_method('spawn', force=True)\n",
    "\n",
    "from envs.FroggerEnv import CustomVecEnv"
   ]
  },
  {
   "cell_type": "code",
   "execution_count": 2,
   "metadata": {},
   "outputs": [],
   "source": [
    "num_envs = 4"
   ]
  },
  {
   "cell_type": "code",
   "execution_count": 3,
   "metadata": {},
   "outputs": [
    {
     "name": "stdout",
     "output_type": "stream",
     "text": [
      "Main process starting worker 0\n",
      "Main process starting worker 1\n",
      "Main process starting worker 2\n",
      "Main process starting worker 3\n"
     ]
    }
   ],
   "source": [
    "def make_env(num_envs):\n",
    "    return CustomVecEnv(num_envs)\n",
    "\n",
    "env = make_env(num_envs)"
   ]
  },
  {
   "cell_type": "code",
   "execution_count": 4,
   "metadata": {},
   "outputs": [
    {
     "name": "stdout",
     "output_type": "stream",
     "text": [
      "starting run\n",
      "Main process sending reset command...\n",
      "Main process waiting for response...\n",
      "Main process received observation with shape: (84, 84, 1)\n",
      "Main process waiting for response...\n",
      "Main process received observation with shape: (84, 84, 1)\n",
      "Main process waiting for response...\n",
      "Main process received observation with shape: (84, 84, 1)\n",
      "Main process waiting for response...\n",
      "Main process received observation with shape: (84, 84, 1)\n",
      "Observations shape: (4, 84, 84, 1)\n",
      "progress 0\n"
     ]
    },
    {
     "ename": "IndexError",
     "evalue": "list assignment index out of range",
     "output_type": "error",
     "traceback": [
      "\u001b[31m---------------------------------------------------------------------------\u001b[39m",
      "\u001b[31mIndexError\u001b[39m                                Traceback (most recent call last)",
      "\u001b[36mCell\u001b[39m\u001b[36m \u001b[39m\u001b[32mIn[4]\u001b[39m\u001b[32m, line 7\u001b[39m\n\u001b[32m      5\u001b[39m \u001b[38;5;28;01mfor\u001b[39;00m i \u001b[38;5;129;01min\u001b[39;00m \u001b[38;5;28mrange\u001b[39m(\u001b[32m100\u001b[39m):\n\u001b[32m      6\u001b[39m     \u001b[38;5;28mprint\u001b[39m(\u001b[33mf\u001b[39m\u001b[33m\"\u001b[39m\u001b[33mprogress \u001b[39m\u001b[38;5;132;01m{\u001b[39;00mi\u001b[38;5;132;01m}\u001b[39;00m\u001b[33m\"\u001b[39m)\n\u001b[32m----> \u001b[39m\u001b[32m7\u001b[39m     actions = \u001b[43menv\u001b[49m\u001b[43m.\u001b[49m\u001b[43maction_spaces\u001b[49m\u001b[43m.\u001b[49m\u001b[43mSampleAll\u001b[49m\u001b[43m(\u001b[49m\u001b[43m)\u001b[49m\n\u001b[32m      8\u001b[39m     observation, reward, terminated, truncated, info = env.step(actions)\n\u001b[32m     10\u001b[39m     \u001b[38;5;28mprint\u001b[39m(\u001b[33mf\u001b[39m\u001b[33m\"\u001b[39m\u001b[33mobservation \u001b[39m\u001b[38;5;132;01m{\u001b[39;00mobservation\u001b[38;5;132;01m}\u001b[39;00m\u001b[33m, reward \u001b[39m\u001b[38;5;132;01m{\u001b[39;00mreward\u001b[38;5;132;01m}\u001b[39;00m\u001b[33m, terminated \u001b[39m\u001b[38;5;132;01m{\u001b[39;00mterminated\u001b[38;5;132;01m}\u001b[39;00m\u001b[33m, truncated \u001b[39m\u001b[38;5;132;01m{\u001b[39;00mtruncated\u001b[38;5;132;01m}\u001b[39;00m\u001b[33m, info \u001b[39m\u001b[38;5;132;01m{\u001b[39;00minfo\u001b[38;5;132;01m}\u001b[39;00m\u001b[33m\"\u001b[39m)\n",
      "\u001b[36mFile \u001b[39m\u001b[32mc:\\Users\\lbarber\\OneDrive - Cherry Creek School District\\Desktop\\Github\\CCIC-RFP_6\\envs\\MultiActionSpace.py:22\u001b[39m, in \u001b[36mActionSpaces.SampleAll\u001b[39m\u001b[34m(self)\u001b[39m\n\u001b[32m     20\u001b[39m results = []\n\u001b[32m     21\u001b[39m \u001b[38;5;28;01mfor\u001b[39;00m i \u001b[38;5;129;01min\u001b[39;00m \u001b[38;5;28mrange\u001b[39m(\u001b[38;5;28mlen\u001b[39m(\u001b[38;5;28mself\u001b[39m.action_spaces)):\n\u001b[32m---> \u001b[39m\u001b[32m22\u001b[39m     \u001b[43mresults\u001b[49m\u001b[43m[\u001b[49m\u001b[43mi\u001b[49m\u001b[43m]\u001b[49m = \u001b[38;5;28mself\u001b[39m.action_spaces[i].sample()\n\u001b[32m     24\u001b[39m \u001b[38;5;28;01mreturn\u001b[39;00m results\n",
      "\u001b[31mIndexError\u001b[39m: list assignment index out of range"
     ]
    }
   ],
   "source": [
    "print(f\"starting run\")\n",
    "observations = env.reset()\n",
    "print(f\"Observations shape: {observations.shape}\")\n",
    "\n",
    "for i in range(100):\n",
    "    print(f\"progress {i}\")\n",
    "    actions = env.action_spaces.SampleAll()\n",
    "    observation, reward, terminated, truncated, info = env.step(actions)\n",
    "\n",
    "    print(f\"observation {observation}, reward {reward}, terminated {terminated}, truncated {truncated}, info {info}\")\n",
    "\n",
    "    for i in range(num_envs):\n",
    "        if terminated[i] or truncated[i]:\n",
    "            observation, info = env.reset()\n",
    "\n",
    "env.close()"
   ]
  }
 ],
 "metadata": {
  "kernelspec": {
   "display_name": ".venv",
   "language": "python",
   "name": "python3"
  },
  "language_info": {
   "codemirror_mode": {
    "name": "ipython",
    "version": 3
   },
   "file_extension": ".py",
   "mimetype": "text/x-python",
   "name": "python",
   "nbconvert_exporter": "python",
   "pygments_lexer": "ipython3",
   "version": "3.13.2"
  }
 },
 "nbformat": 4,
 "nbformat_minor": 2
}
