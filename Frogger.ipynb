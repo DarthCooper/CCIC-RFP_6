{
 "cells": [
  {
   "cell_type": "code",
   "execution_count": 1,
   "metadata": {},
   "outputs": [],
   "source": [
    "import gymnasium as gym\n",
    "import os\n",
    "import ale_py\n",
    "from ale_py import ALEInterface\n",
    "import cv2"
   ]
  },
  {
   "cell_type": "code",
   "execution_count": 4,
   "metadata": {},
   "outputs": [],
   "source": [
    "env = gym.make(\"ALE/Frogger-v5\", render_mode=\"rgb_array\", full_action_space=True)\n",
    "obs, info = env.reset()"
   ]
  },
  {
   "cell_type": "code",
   "execution_count": 5,
   "metadata": {},
   "outputs": [],
   "source": [
    "for _ in range(1000):\n",
    "    action = env.action_space.sample()\n",
    "    observation, reward, terminated, truncated, info = env.step(action)\n",
    "    observation = cv2.cvtColor(observation, cv2.COLOR_BGR2RGB)\n",
    "    frameMap = observation\n",
    "\n",
    "    if terminated or truncated:\n",
    "        observation, info = env.reset()\n",
    "        frameMap = observation    \n",
    "\n",
    "env.close()"
   ]
  },
  {
   "cell_type": "code",
   "execution_count": 8,
   "metadata": {},
   "outputs": [
    {
     "data": {
      "text/plain": [
       "array([[[  0,   0,   0],\n",
       "        [  0,   0,   0],\n",
       "        [  0,   0,   0],\n",
       "        ...,\n",
       "        [  0,   0,   0],\n",
       "        [  0,   0,   0],\n",
       "        [  0,   0,   0]],\n",
       "\n",
       "       [[  0,   0,   0],\n",
       "        [  0,   0,   0],\n",
       "        [  0,   0,   0],\n",
       "        ...,\n",
       "        [  0,   0,   0],\n",
       "        [  0,   0,   0],\n",
       "        [  0,   0,   0]],\n",
       "\n",
       "       [[  0,   0,   0],\n",
       "        [  0,   0,   0],\n",
       "        [  0,   0,   0],\n",
       "        ...,\n",
       "        [  0,   0,   0],\n",
       "        [  0,   0,   0],\n",
       "        [  0,   0,   0]],\n",
       "\n",
       "       ...,\n",
       "\n",
       "       [[ 45, 126,  82],\n",
       "        [ 45, 126,  82],\n",
       "        [ 45, 126,  82],\n",
       "        ...,\n",
       "        [ 45, 126,  82],\n",
       "        [ 45, 126,  82],\n",
       "        [ 45, 126,  82]],\n",
       "\n",
       "       [[ 45, 126,  82],\n",
       "        [ 45, 126,  82],\n",
       "        [ 45, 126,  82],\n",
       "        ...,\n",
       "        [ 45, 126,  82],\n",
       "        [ 45, 126,  82],\n",
       "        [ 45, 126,  82]],\n",
       "\n",
       "       [[ 45, 126,  82],\n",
       "        [ 45, 126,  82],\n",
       "        [ 45, 126,  82],\n",
       "        ...,\n",
       "        [ 45, 126,  82],\n",
       "        [ 45, 126,  82],\n",
       "        [ 45, 126,  82]]], shape=(210, 160, 3), dtype=uint8)"
      ]
     },
     "execution_count": 8,
     "metadata": {},
     "output_type": "execute_result"
    }
   ],
   "source": [
    "frameMap #Returns the start due to the fact that env.reset() was called"
   ]
  },
  {
   "cell_type": "code",
   "execution_count": null,
   "metadata": {},
   "outputs": [
    {
     "data": {
      "text/plain": [
       "'\\n\\nfor _ in range(1000):\\n    action = policyAction(observation)\\n    observation, reward, terminated, truncated, info = env.step(action)\\n    observation = cv2.cvtColor(observation, cv2.COLOR_BGR2RGB)\\n    frameMap = observation\\n\\n    if terminated or truncated:\\n        observation, info = env.reset()\\n        frameMap = observation\\n'"
      ]
     },
     "execution_count": 6,
     "metadata": {},
     "output_type": "execute_result"
    }
   ],
   "source": [
    "'''         This is for any future 'tested' policy action, rather than random movements during play. Replace policyaction(observation) with our working method when it becomes avaialbe. This method simply gives us the vecorized frame after every movement.\n",
    "\n",
    "for _ in range(1000):\n",
    "    action = policyAction(observation)\n",
    "    observation, reward, terminated, truncated, info = env.step(action)\n",
    "    observation = cv2.cvtColor(observation, cv2.COLOR_BGR2RGB)\n",
    "    frameMap = observation\n",
    "\n",
    "    if terminated or truncated:\n",
    "        observation, info = env.reset()\n",
    "        frameMap = observation\n",
    "'''"
   ]
  }
 ],
 "metadata": {
  "kernelspec": {
   "display_name": ".venv",
   "language": "python",
   "name": "python3"
  },
  "language_info": {
   "codemirror_mode": {
    "name": "ipython",
    "version": 3
   },
   "file_extension": ".py",
   "mimetype": "text/x-python",
   "name": "python",
   "nbconvert_exporter": "python",
   "pygments_lexer": "ipython3",
   "version": "3.12.8"
  }
 },
 "nbformat": 4,
 "nbformat_minor": 2
}
