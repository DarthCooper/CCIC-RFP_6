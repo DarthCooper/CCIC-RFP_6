{
 "cells": [
  {
   "cell_type": "code",
   "execution_count": 1,
   "metadata": {},
   "outputs": [],
   "source": [
    "import multiprocessing\n",
    "multiprocessing.set_start_method('spawn', force=True)\n",
    "\n",
    "from envs.FroggerEnv import CustomVecEnv\n",
    "\n",
    "from agents.FroggerDQNAgent import DQNAgent"
   ]
  },
  {
   "cell_type": "code",
   "execution_count": 2,
   "metadata": {},
   "outputs": [
    {
     "name": "stdout",
     "output_type": "stream",
     "text": [
      "Main process starting worker 0\n",
      "Main process starting worker 1\n",
      "Main process starting worker 2\n",
      "Main process starting worker 3\n"
     ]
    }
   ],
   "source": [
    "def make_env():\n",
    "    return CustomVecEnv()\n",
    "\n",
    "env = make_env()"
   ]
  },
  {
   "cell_type": "code",
   "execution_count": 3,
   "metadata": {},
   "outputs": [
    {
     "name": "stderr",
     "output_type": "stream",
     "text": [
      "f:\\GitRepos\\CCIC-RFP_6\\.venv\\Lib\\site-packages\\keras\\src\\layers\\convolutional\\base_conv.py:107: UserWarning: Do not pass an `input_shape`/`input_dim` argument to a layer. When using Sequential models, prefer using an `Input(shape)` object as the first layer in the model instead.\n",
      "  super().__init__(activity_regularizer=activity_regularizer, **kwargs)\n",
      "f:\\GitRepos\\CCIC-RFP_6\\.venv\\Lib\\site-packages\\keras\\src\\saving\\saving_lib.py:757: UserWarning: Skipping variable loading for optimizer 'adam', because it has 2 variables whereas the saved optimizer has 22 variables. \n",
      "  saveable.load_own_variables(weights_store.get(inner_path))\n"
     ]
    },
    {
     "name": "stdout",
     "output_type": "stream",
     "text": [
      "[INFO] Loading model weights...\n",
      "[INFO] Resumed from episode 4114\n"
     ]
    }
   ],
   "source": [
    "agent = DQNAgent(resume=True, env=env)"
   ]
  },
  {
   "cell_type": "code",
   "execution_count": null,
   "metadata": {},
   "outputs": [
    {
     "name": "stdout",
     "output_type": "stream",
     "text": [
      "Main process sending reset command...\n",
      "Main process waiting for response...\n",
      "Main process received observation with shape: (84, 84, 1)\n",
      "Main process waiting for response...\n",
      "Main process received observation with shape: (84, 84, 1)\n",
      "Main process waiting for response...\n",
      "Main process received observation with shape: (84, 84, 1)\n",
      "Main process waiting for response...\n",
      "Main process received observation with shape: (84, 84, 1)\n",
      "Episode 3639 - Avg Reward: 0.00 - Epsilon: 0.1000 - Steps 0 - infos : ({'lives': 4, 'episode_frame_number': 416, 'frame_number': 416}, {'lives': 4, 'episode_frame_number': 432, 'frame_number': 432}, {'lives': 4, 'episode_frame_number': 440, 'frame_number': 440}, {'lives': 4, 'episode_frame_number': 456, 'frame_number': 456})\n",
      "Episode 3639 - Avg Reward: 0.25 - Epsilon: 0.1000 - Steps 0 - infos : ({'lives': 4, 'episode_frame_number': 420, 'frame_number': 420}, {'lives': 4, 'episode_frame_number': 436, 'frame_number': 436}, {'lives': 4, 'episode_frame_number': 444, 'frame_number': 444}, {'lives': 4, 'episode_frame_number': 460, 'frame_number': 460})\n",
      "Episode 3639 - Avg Reward: 0.75 - Epsilon: 0.1000 - Steps 0 - infos : ({'lives': 4, 'episode_frame_number': 424, 'frame_number': 424}, {'lives': 4, 'episode_frame_number': 440, 'frame_number': 440}, {'lives': 4, 'episode_frame_number': 448, 'frame_number': 448}, {'lives': 4, 'episode_frame_number': 464, 'frame_number': 464})\n",
      "Episode 3639 - Avg Reward: 0.75 - Epsilon: 0.1000 - Steps 0 - infos : ({'lives': 4, 'episode_frame_number': 428, 'frame_number': 428}, {'lives': 4, 'episode_frame_number': 444, 'frame_number': 444}, {'lives': 4, 'episode_frame_number': 452, 'frame_number': 452}, {'lives': 4, 'episode_frame_number': 468, 'frame_number': 468})\n",
      "Episode 3639 - Avg Reward: 0.75 - Epsilon: 0.1000 - Steps 0 - infos : ({'lives': 4, 'episode_frame_number': 432, 'frame_number': 432}, {'lives': 4, 'episode_frame_number': 448, 'frame_number': 448}, {'lives': 4, 'episode_frame_number': 456, 'frame_number': 456}, {'lives': 4, 'episode_frame_number': 472, 'frame_number': 472})\n",
      "Episode 3639 - Avg Reward: 1.00 - Epsilon: 0.1000 - Steps 0 - infos : ({'lives': 4, 'episode_frame_number': 436, 'frame_number': 436}, {'lives': 4, 'episode_frame_number': 452, 'frame_number': 452}, {'lives': 4, 'episode_frame_number': 460, 'frame_number': 460}, {'lives': 4, 'episode_frame_number': 476, 'frame_number': 476})\n",
      "Episode 3639 - Avg Reward: 1.25 - Epsilon: 0.1000 - Steps 0 - infos : ({'lives': 4, 'episode_frame_number': 440, 'frame_number': 440}, {'lives': 4, 'episode_frame_number': 456, 'frame_number': 456}, {'lives': 4, 'episode_frame_number': 464, 'frame_number': 464}, {'lives': 4, 'episode_frame_number': 480, 'frame_number': 480})\n"
     ]
    }
   ],
   "source": [
    "agent.train()"
   ]
  },
  {
   "cell_type": "code",
   "execution_count": 4,
   "metadata": {},
   "outputs": [
    {
     "name": "stdout",
     "output_type": "stream",
     "text": [
      "[TEST] Running 3 test episodes...\n",
      "[TEST] Episode 1 reward: 94.0\n",
      "[TEST] Episode 2 reward: 104.0\n",
      "[TEST] Episode 3 reward: 104.0\n"
     ]
    }
   ],
   "source": [
    "agent.test(3, render=True, record=True)"
   ]
  }
 ],
 "metadata": {
  "kernelspec": {
   "display_name": ".venv",
   "language": "python",
   "name": "python3"
  },
  "language_info": {
   "codemirror_mode": {
    "name": "ipython",
    "version": 3
   },
   "file_extension": ".py",
   "mimetype": "text/x-python",
   "name": "python",
   "nbconvert_exporter": "python",
   "pygments_lexer": "ipython3",
   "version": "3.11.9"
  }
 },
 "nbformat": 4,
 "nbformat_minor": 2
}
