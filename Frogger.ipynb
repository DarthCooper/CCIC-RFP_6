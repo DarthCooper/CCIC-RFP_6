{
 "cells": [
  {
   "cell_type": "code",
   "execution_count": 1,
   "metadata": {},
   "outputs": [],
   "source": [
    "import multiprocessing\n",
    "multiprocessing.set_start_method('spawn', force=True)\n",
    "\n",
    "from envs.FroggerEnv import CustomVecEnv"
   ]
  },
  {
   "cell_type": "code",
   "execution_count": 2,
   "metadata": {},
   "outputs": [],
   "source": [
    "num_envs = 4"
   ]
  },
  {
   "cell_type": "code",
   "execution_count": 3,
   "metadata": {},
   "outputs": [
    {
     "name": "stdout",
     "output_type": "stream",
     "text": [
      "Main process starting worker 0\n",
      "Main process starting worker 1\n",
      "Main process starting worker 2\n",
      "Main process starting worker 3\n"
     ]
    }
   ],
   "source": [
    "def make_env(num_envs):\n",
    "    return CustomVecEnv(num_envs)\n",
    "\n",
    "env = make_env(num_envs)"
   ]
  },
  {
   "cell_type": "code",
   "execution_count": null,
   "metadata": {},
   "outputs": [],
   "source": [
    "observations = env.reset()\n",
    "\n",
    "for i in range(100):\n",
    "    print(f\"progress {i}\")\n",
    "    actions = env.action_spaces.SampleAll()\n",
    "    observation, reward, terminated, truncated, info = env.step(actions)\n",
    "\n",
    "    print(f\"observation {observation}, reward {reward}, terminated {terminated}, truncated {truncated}, info {info}\")\n",
    "\n",
    "    for i in range(num_envs):\n",
    "        if terminated[i] or truncated[i]:\n",
    "            observation, info = env.reset()\n",
    "\n",
    "env.close()"
   ]
  }
 ],
 "metadata": {
  "kernelspec": {
   "display_name": ".venv",
   "language": "python",
   "name": "python3"
  },
  "language_info": {
   "codemirror_mode": {
    "name": "ipython",
    "version": 3
   },
   "file_extension": ".py",
   "mimetype": "text/x-python",
   "name": "python",
   "nbconvert_exporter": "python",
   "pygments_lexer": "ipython3",
   "version": "3.13.2"
  }
 },
 "nbformat": 4,
 "nbformat_minor": 2
}
