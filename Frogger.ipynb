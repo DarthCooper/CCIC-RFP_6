{
 "cells": [
  {
   "cell_type": "code",
   "execution_count": 3,
   "metadata": {},
   "outputs": [],
   "source": [
    "import gymnasium\n",
    "import os\n",
    "import ale_py\n",
    "import shimmer"
   ]
  },
  {
   "cell_type": "code",
   "execution_count": 2,
   "metadata": {},
   "outputs": [
    {
     "name": "stdout",
     "output_type": "stream",
     "text": [
      "Defaulting to user installation because normal site-packages is not writeable\n",
      "Collecting shimmer\n",
      "  Downloading shimmer-1.8.0-py3-none-any.whl (64 kB)\n",
      "     -------------------------------------- 64.1/64.1 kB 690.0 kB/s eta 0:00:00\n",
      "Collecting janus<0.5.0,>=0.4.0\n",
      "  Downloading janus-0.4.0-py3-none-any.whl (7.0 kB)\n",
      "Collecting cocos2d<0.7.0,>=0.6.7\n",
      "  Downloading cocos2d-0.6.10.tar.gz (4.7 MB)\n",
      "     ---------------------------------------- 4.7/4.7 MB 2.4 MB/s eta 0:00:00\n",
      "  Installing build dependencies: started\n",
      "  Installing build dependencies: finished with status 'done'\n",
      "  Getting requirements to build wheel: started\n",
      "  Getting requirements to build wheel: finished with status 'done'\n",
      "  Preparing metadata (pyproject.toml): started\n",
      "  Preparing metadata (pyproject.toml): finished with status 'done'\n",
      "Collecting more-itertools<9.0.0,>=8.0.2\n",
      "  Downloading more_itertools-8.14.0-py3-none-any.whl (52 kB)\n",
      "     ---------------------------------------- 52.2/52.2 kB ? eta 0:00:00\n",
      "Collecting pyglet==1.4.3\n",
      "  Downloading pyglet-1.4.3-py2.py3-none-any.whl (1.0 MB)\n",
      "     ---------------------------------------- 1.0/1.0 MB 2.8 MB/s eta 0:00:00\n",
      "Collecting toml<0.10,>=0.9\n",
      "  Downloading toml-0.9.6-py2.py3-none-any.whl (14 kB)\n",
      "Requirement already satisfied: future in c:\\programdata\\anaconda3\\lib\\site-packages (from pyglet==1.4.3->shimmer) (0.18.2)\n",
      "Collecting cocos2d<0.7.0,>=0.6.7\n",
      "  Downloading cocos2d-0.6.9.tar.gz (4.7 MB)\n",
      "     ---------------------------------------- 4.7/4.7 MB 1.7 MB/s eta 0:00:00\n",
      "  Preparing metadata (setup.py): started\n",
      "  Preparing metadata (setup.py): finished with status 'done'\n",
      "Requirement already satisfied: six>=1.4 in c:\\programdata\\anaconda3\\lib\\site-packages (from cocos2d<0.7.0,>=0.6.7->shimmer) (1.16.0)\n",
      "  Downloading cocos2d-0.6.8.tar.gz (5.1 MB)\n",
      "     ---------------------------------------- 5.1/5.1 MB 1.2 MB/s eta 0:00:00\n",
      "  Preparing metadata (setup.py): started\n",
      "  Preparing metadata (setup.py): finished with status 'done'\n",
      "  Downloading cocos2d-0.6.7.tar.gz (4.7 MB)\n",
      "     ---------------------------------------- 4.7/4.7 MB 1.9 MB/s eta 0:00:00\n",
      "  Preparing metadata (setup.py): started\n",
      "  Preparing metadata (setup.py): finished with status 'done'\n",
      "Building wheels for collected packages: cocos2d\n",
      "  Building wheel for cocos2d (setup.py): started\n",
      "  Building wheel for cocos2d (setup.py): finished with status 'done'\n",
      "  Created wheel for cocos2d: filename=cocos2d-0.6.7-py3-none-any.whl size=303918 sha256=910d211b41acb950161d906470ac23a1d6a1908cab5b0c4ec211b88faa3715fe\n",
      "  Stored in directory: c:\\users\\enichol\\appdata\\local\\pip\\cache\\wheels\\57\\a4\\a0\\159a4b5eb8cbc67109af66cb4c918c95d300f9795bc9174f55\n",
      "Successfully built cocos2d\n",
      "Installing collected packages: toml, pyglet, more-itertools, janus, cocos2d, shimmer\n",
      "Successfully installed cocos2d-0.6.7 janus-0.4.0 more-itertools-8.14.0 pyglet-1.4.3 shimmer-1.8.0 toml-0.9.6\n",
      "Note: you may need to restart the kernel to use updated packages.\n"
     ]
    }
   ],
   "source": [
    "pip install shimmer"
   ]
  },
  {
   "cell_type": "code",
   "execution_count": 7,
   "metadata": {},
   "outputs": [],
   "source": [
    "env = gymnasium.make(\"ALE/Frogger-v5\", render_mode=\"human\")"
   ]
  },
  {
   "cell_type": "code",
   "execution_count": null,
   "metadata": {},
   "outputs": [],
   "source": []
  }
 ],
 "metadata": {
  "kernelspec": {
   "display_name": "Python 3 (ipykernel)",
   "language": "python",
   "name": "python3"
  },
  "language_info": {
   "codemirror_mode": {
    "name": "ipython",
    "version": 3
   },
   "file_extension": ".py",
   "mimetype": "text/x-python",
   "name": "python",
   "nbconvert_exporter": "python",
   "pygments_lexer": "ipython3",
   "version": "3.9.13"
  }
 },
 "nbformat": 4,
 "nbformat_minor": 2
}
