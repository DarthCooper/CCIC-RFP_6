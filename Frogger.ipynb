{
 "cells": [
  {
   "cell_type": "code",
   "execution_count": null,
   "metadata": {},
   "outputs": [],
   "source": [
    "import gymnasium as gym\n",
    "from gymnasium.vector import SyncVectorEnv\n",
    "from ale_py import ALEInterface"
   ]
  },
  {
   "cell_type": "code",
   "execution_count": null,
   "metadata": {},
   "outputs": [],
   "source": [
    "def make_env():\n",
    "    def _init(envName : str):\n",
    "        env = gym.make(envName)\n",
    "        return env\n",
    "    return _init\n",
    "\n",
    "num_environments = 2\n",
    "env_name = 'ALE/Frogger-v5'\n",
    "\n",
    "envs = [make_env(env_name) for _ in range(num_environments)]\n",
    "async_env = SyncVectorEnv(envs)"
   ]
  },
  {
   "cell_type": "code",
   "execution_count": 30,
   "metadata": {},
   "outputs": [
    {
     "ename": "ValueError",
     "evalue": "The truth value of an array with more than one element is ambiguous. Use a.any() or a.all()",
     "output_type": "error",
     "traceback": [
      "\u001b[31m---------------------------------------------------------------------------\u001b[39m",
      "\u001b[31mValueError\u001b[39m                                Traceback (most recent call last)",
      "\u001b[36mCell\u001b[39m\u001b[36m \u001b[39m\u001b[32mIn[30]\u001b[39m\u001b[32m, line 7\u001b[39m\n\u001b[32m      4\u001b[39m actions = [env.action_space.sample() \u001b[38;5;28;01mfor\u001b[39;00m env \u001b[38;5;129;01min\u001b[39;00m async_env.envs]  \u001b[38;5;66;03m# agent policy that uses the observation and info\u001b[39;00m\n\u001b[32m      5\u001b[39m observation, reward, terminated, truncated, info = async_env.step(actions)\n\u001b[32m----> \u001b[39m\u001b[32m7\u001b[39m \u001b[38;5;28;01mif\u001b[39;00m terminated \u001b[38;5;129;01mor\u001b[39;00m truncated:\n\u001b[32m      8\u001b[39m     observation, info = envs.reset()\n\u001b[32m     10\u001b[39m async_env.close()\n",
      "\u001b[31mValueError\u001b[39m: The truth value of an array with more than one element is ambiguous. Use a.any() or a.all()"
     ]
    }
   ],
   "source": [
    "states = async_env.reset()\n",
    "\n",
    "for _ in range(100):\n",
    "    actions = [env.action_space.sample() for env in async_env.envs]  # agent policy that uses the observation and info\n",
    "    observation, reward, terminated, truncated, info = async_env.step(actions)\n",
    "\n",
    "    if terminated or truncated:\n",
    "        observation, info = envs.reset()\n",
    "\n",
    "    async_env.close()"
   ]
  }
 ],
 "metadata": {
  "kernelspec": {
   "display_name": ".venv",
   "language": "python",
   "name": "python3"
  },
  "language_info": {
   "codemirror_mode": {
    "name": "ipython",
    "version": 3
   },
   "file_extension": ".py",
   "mimetype": "text/x-python",
   "name": "python",
   "nbconvert_exporter": "python",
   "pygments_lexer": "ipython3",
   "version": "3.13.2"
  }
 },
 "nbformat": 4,
 "nbformat_minor": 2
}
